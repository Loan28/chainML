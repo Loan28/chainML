{
 "cells": [
  {
   "cell_type": "code",
   "execution_count": 1,
   "metadata": {},
   "outputs": [
    {
     "name": "stdout",
     "output_type": "stream",
     "text": [
      "111\n"
     ]
    }
   ],
   "source": [
    "import tensorflow as tf\n",
    "import tensorflow_hub as hub\n",
    "from matplotlib import pyplot as plt\n",
    "import numpy as np\n",
    "import sys\n",
    "from skimage import data\n",
    "from PIL import Image\n",
    "\n",
    "\n",
    "args = sys.argv\n",
    "\n",
    "im = tf.io.read_file(\"index.jpeg\")\n",
    "module = hub.KerasLayer(\"resnet_model/\")\n",
    "\n",
    "im = tf.image.decode_jpeg(im, channels=3) #color images\n",
    "im = tf.image.convert_image_dtype(im, tf.float32)\n",
    "#convert unit8 tensor to floats in the [0,1]range\n",
    "t = tf.image.resize(im, [224, 224])\n",
    "\n",
    "images = np.array([t])\n",
    "images = tf.cast(images, tf.float32)\n",
    "images = images/255\n",
    "\n",
    "logits = module(images)  # Logits with shape [batch_size, 1000].\n",
    "probabilities = tf.nn.softmax(logits)\n",
    "\n",
    "print(np.argmax(probabilities))"
   ]
  },
  {
   "cell_type": "code",
   "execution_count": 29,
   "metadata": {
    "scrolled": true
   },
   "outputs": [
    {
     "name": "stdout",
     "output_type": "stream",
     "text": [
      "goose\n"
     ]
    }
   ],
   "source": [
    "import numpy as np\n",
    "import tensorflow as tf\n",
    "\n",
    "file_name = \"index.jpeg\"\n",
    "label_file = \"labels_mobilenet_quant_v1_224.txt\"\n",
    "\n",
    "def load_labels(filename):\n",
    "  my_labels = []\n",
    "  input_file = open(filename, 'r')\n",
    "  for l in input_file:\n",
    "    my_labels.append(l.strip())\n",
    "  return my_labels\n",
    "\n",
    "# Load the TFLite model and allocate tensors.\n",
    "interpreter = tf.lite.Interpreter(model_path=\"mobilenet_v1_1.0_224.tflite\")\n",
    "interpreter.allocate_tensors()\n",
    "\n",
    "# Get input and output tensors.\n",
    "input_details = interpreter.get_input_details()\n",
    "output_details = interpreter.get_output_details()\n",
    "\n",
    "height = input_details[0]['shape'][1]\n",
    "width = input_details[0]['shape'][2]\n",
    "\n",
    "img = Image.open(file_name)\n",
    "img = img.resize((width, height))\n",
    "\n",
    "# Test the model on random input data.\n",
    "input_shape = input_details[0]['shape']\n",
    "input_data = np.expand_dims(img, axis=0)\n",
    "input_data = (np.float32(input_data) - input_mean) / input_std\n",
    "interpreter.set_tensor(input_details[0]['index'], input_data)\n",
    "\n",
    "interpreter.invoke()\n",
    "\n",
    "# The function `get_tensor()` returns a copy of the tensor data.\n",
    "# Use `tensor()` in order to get a pointer to the tensor.\n",
    "output_data = interpreter.get_tensor(output_details[0]['index'])\n",
    "results = np.squeeze(output_data)\n",
    "\n",
    "labels = load_labels(label_file)\n",
    "top_k = results.argsort()[-5:][::-1]\n",
    "#for i in top_k:\n",
    "#    if floating_model:\n",
    "#        print('{0:08.6f}'.format(float(results[i]))+\":\", labels[i])\n",
    "#    else:\n",
    "#        print('{0:08.6f}'.format(float(results[i]/255.0))+\":\", labels[i])\n",
    "print(labels[top_k[0]])\n"
   ]
  },
  {
   "cell_type": "code",
   "execution_count": 4,
   "metadata": {},
   "outputs": [
    {
     "name": "stderr",
     "output_type": "stream",
     "text": [
      "usage: ipykernel_launcher.py [-h] [--image IMAGE] [--graph GRAPH]\n",
      "                             [--labels LABELS] [--input_mean INPUT_MEAN]\n",
      "                             [--input_std INPUT_STD]\n",
      "ipykernel_launcher.py: error: unrecognized arguments: -f /home/loan/.local/share/jupyter/runtime/kernel-ce472812-a925-4db8-8628-e8bf7253992a.json\n"
     ]
    },
    {
     "ename": "SystemExit",
     "evalue": "2",
     "output_type": "error",
     "traceback": [
      "An exception has occurred, use %tb to see the full traceback.\n",
      "\u001b[0;31mSystemExit\u001b[0m\u001b[0;31m:\u001b[0m 2\n"
     ]
    }
   ],
   "source": [
    "\n",
    "from __future__ import absolute_import\n",
    "from __future__ import division\n",
    "from __future__ import print_function\n",
    "\n",
    "import argparse\n",
    "import numpy as np\n",
    "import tensorflow as tf\n",
    "\n",
    "from PIL import Image\n",
    "\n",
    "\n",
    "\n",
    "if __name__ == \"__main__\":\n",
    "  file_name = \"/goose.jpg\"\n",
    "  model_file = \"/mobilenet_v1_1.0_224.tflite\"\n",
    "  label_file = \"/labels_mobilenet_quant_v1-224.txt\"\n",
    "  input_mean = 127.5\n",
    "  input_std = 127.5\n",
    "  floating_model = False\n",
    "\n",
    "  interpreter = tf.lite.Interpreter(model_path=model_file)\n",
    "  interpreter.allocate_tensors()\n",
    "\n",
    "  input_details = interpreter.get_input_details()\n",
    "  output_details = interpreter.get_output_details()\n",
    "\n",
    "  # check the type of the input tensor\n",
    "  if input_details[0]['dtype'] == type(np.float32(1.0)):\n",
    "    floating_model = True\n",
    "\n",
    "  # NxHxWxC, H:1, W:2\n",
    "  height = input_details[0]['shape'][1]\n",
    "  width = input_details[0]['shape'][2]\n",
    "  img = Image.open(file_name)\n",
    "  img = img.resize((width, height))\n",
    "\n",
    "  # add N dim\n",
    "  input_data = np.expand_dims(img, axis=0)\n",
    "\n",
    "  if floating_model:\n",
    "    input_data = (np.float32(input_data) - input_mean) / input_std\n",
    "\n",
    "  interpreter.set_tensor(input_details[0]['index'], input_data)\n",
    "\n",
    "  interpreter.invoke()\n",
    "\n",
    "  output_data = interpreter.get_tensor(output_details[0]['index'])\n",
    "  results = np.squeeze(output_data)\n",
    "\n",
    "  top_k = results.argsort()[-5:][::-1]\n",
    "  labels = load_labels(label_file)\n",
    "  for i in top_k:\n",
    "    if floating_model:\n",
    "      print('{0:08.6f}'.format(float(results[i]))+\":\", labels[i])\n",
    "    else:\n",
    "      print('{0:08.6f}'.format(float(results[i]/255.0))+\":\", labels[i])"
   ]
  },
  {
   "cell_type": "code",
   "execution_count": null,
   "metadata": {},
   "outputs": [],
   "source": []
  },
  {
   "cell_type": "code",
   "execution_count": null,
   "metadata": {},
   "outputs": [],
   "source": []
  },
  {
   "cell_type": "code",
   "execution_count": null,
   "metadata": {},
   "outputs": [],
   "source": []
  },
  {
   "cell_type": "code",
   "execution_count": null,
   "metadata": {},
   "outputs": [],
   "source": []
  },
  {
   "cell_type": "code",
   "execution_count": null,
   "metadata": {},
   "outputs": [],
   "source": []
  }
 ],
 "metadata": {
  "kernelspec": {
   "display_name": "Python 3",
   "language": "python",
   "name": "python3"
  },
  "language_info": {
   "codemirror_mode": {
    "name": "ipython",
    "version": 3
   },
   "file_extension": ".py",
   "mimetype": "text/x-python",
   "name": "python",
   "nbconvert_exporter": "python",
   "pygments_lexer": "ipython3",
   "version": "3.6.9"
  }
 },
 "nbformat": 4,
 "nbformat_minor": 4
}
